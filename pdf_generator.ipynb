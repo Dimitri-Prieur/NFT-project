{
 "cells": [
  {
   "cell_type": "code",
   "execution_count": null,
   "metadata": {},
   "outputs": [],
   "source": [
    "\n",
    "# import os\n",
    "# from fpdf import FPDF\n",
    "\n",
    "# pdf = FPDF()\n",
    "# pdf.set_auto_page_break(0)\n",
    "\n",
    "# imagelist = [i for i in os.listdir(\"./Images\") if i.endswith(\"png\")]\n",
    "\n",
    "# # imagelist is the list with all image filenames\n",
    "# for image in sorted(imagelist):\n",
    "#     pdf.add_page()\n",
    "#     pdf.image(\"./Images/\" + image, w=190, h=280)\n",
    "\n",
    "# pdf.output('Transcript.pdf' , 'F')"
   ]
  },
  {
   "cell_type": "code",
   "execution_count": 5,
   "metadata": {},
   "outputs": [
    {
     "data": {
      "text/plain": [
       "''"
      ]
     },
     "execution_count": 5,
     "metadata": {},
     "output_type": "execute_result"
    }
   ],
   "source": [
    "from fpdf import FPDF\n",
    "\n",
    "# 1. Set up the PDF doc basics\n",
    "pdf = FPDF()\n",
    "pdf.add_page()\n",
    "pdf.set_font('Arial', 'B', 16)\n",
    "\n",
    "# 2. Layout the PDF doc contents\n",
    "## Title\n",
    "pdf.cell(40, 10, 'Daily S&P 500 prices report')\n",
    "## Line breaks\n",
    "pdf.ln(20)\n",
    "## Image\n",
    "pdf.image('./Images/generated_qr_code.png')\n",
    "# ## Line breaks\n",
    "pdf.ln(20)\n",
    "pdf.image('./Images/generated_qr_code.png')\n",
    "# ## Show table of historical data\n",
    "# ### Transform the DataFrame to include index of Date\n",
    "# sp500_history_pdf = sp500_history.reset_index()\n",
    "# ### Transform the Date column as str dtype\n",
    "# sp500_history_pdf['Date'] = sp500_history_pdf['Date'].astype(str)\n",
    "# ### Round the numeric columns to 2 decimals\n",
    "# numeric_cols = sp500_history_pdf.select_dtypes(include='number').columns\n",
    "# sp500_history_pdf[numeric_cols] = sp500_history_pdf[numeric_cols].round(2)\n",
    "# ### Use the function defined earlier to print the DataFrame as a table on the PDF \n",
    "# output_df_to_pdf(pdf, sp500_history_pdf.tail(3))\n",
    "# ## Line breaks\n",
    "# pdf.ln(20)\n",
    "# ## Show table of historical summary data\n",
    "# sp500_history_summary_pdf = sp500_history_summary.reset_index()\n",
    "# numeric_cols = sp500_history_summary_pdf.select_dtypes(include='number').columns\n",
    "# sp500_history_summary_pdf[numeric_cols] = sp500_history_summary_pdf[numeric_cols].round(2)\n",
    "\n",
    "# output_df_to_pdf(pdf, sp500_history_summary_pdf)\n",
    "# 3. Output the PDF file\n",
    "pdf.output('ticket.pdf', 'F')"
   ]
  }
 ],
 "metadata": {
  "kernelspec": {
   "display_name": "Python 3.9.12 ('base')",
   "language": "python",
   "name": "python3"
  },
  "language_info": {
   "codemirror_mode": {
    "name": "ipython",
    "version": 3
   },
   "file_extension": ".py",
   "mimetype": "text/x-python",
   "name": "python",
   "nbconvert_exporter": "python",
   "pygments_lexer": "ipython3",
   "version": "3.9.12"
  },
  "orig_nbformat": 4,
  "vscode": {
   "interpreter": {
    "hash": "baa15ed6ad832c1f2b1c15686f187e444cedd0bfb138b747a4d97d43355a914b"
   }
  }
 },
 "nbformat": 4,
 "nbformat_minor": 2
}
