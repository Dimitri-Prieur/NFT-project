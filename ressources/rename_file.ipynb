{
 "cells": [
  {
   "cell_type": "markdown",
   "metadata": {},
   "source": [
    "# This notebook allows us to rename all football and basketball files"
   ]
  },
  {
   "cell_type": "code",
   "execution_count": 17,
   "metadata": {},
   "outputs": [
    {
     "name": "stdout",
     "output_type": "stream",
     "text": [
      "['file_name_12.png', 'file_name_10.png', 'file_name_11.png', 'file_name_5.png', 'file_name_4.png', 'file_name_6.png', 'file_name_7.png', 'file_name_3.png', 'file_name_2.png', 'file_name_0.png', 'file_name_1.png', 'file_name_9.png', 'file_name_8.png']\n",
      "['DALL·E 2022-11-14 21.24.45 - Abstract painting of a dog in a jersey dunking a basketball like Michael Jordan, shot from below, tilted frame, 35°, Dutch angle, extreme long shot, h_clipdrop-cleanup.png', 'DALL·E 2022-11-14 21.25.33 - Film still of a human in a jersey dunking a basketball like Michael Jordan, dramatic backlighting, vibrant sunset, vaporwave._clipdrop-cleanup.png', 'DALL·E 2022-11-14 21.27.51 - Player who dribbles a basketball like Michael Jordan, shot from front, tilted frame, 15°, high angle, extreme long shot, high detail, dramatic backlig_clipdrop-cleanup.png', 'DALL·E 2022-11-08 01.19.58 - An expressive tag of a basketball player dunking_clipdrop-cleanup.png', 'DALL·E 2022-11-14 21.22.57 - a basketball in paris, a dark synthwave atmosphere, the moon reflecting on the ball_clipdrop-cleanup.png', 'téléchargement (2)_clipdrop-cleanup.png', '.DS_Store', 'DALL·E 2022-11-14 21.25.37 - Film still of a human in a jersey dunking a basketball like Michael Jordan, dramatic backlighting, vibrant sunset, vaporwave._clipdrop-cleanup.png', 'DALL·E 2022-11-08 01.21.42 - A cyberpunk representation of basketball court_clipdrop-cleanup.png', 'DALL·E 2022-11-14 21.24.43 - Abstract painting of a dog in a jersey dunking a basketball like Michael Jordan, shot from below, tilted frame, 35°, Dutch angle, extreme long shot, h_clipdrop-cleanup.png', 'DALL·E 2022-11-14 21.22.09 - A painting of a basketball exhibited in a museum_clipdrop-cleanup.png', 'DALL·E 2022-11-14 21.22.40 - a picture of a basketball instead of the moon, a reflection of the ball in a puddle _clipdrop-cleanup.png', 'DALL·E 2022-11-14 21.22.45 - a picture of a basketball instead of the moon, a reflection of the ball in a puddle _clipdrop-cleanup (1).png', 'DALL·E 2022-11-08 01.19.54 - An expressive tag of a basketball player dunking_clipdrop-cleanup.png', 'DALL·E 2022-11-14 21.25.42 - Film still of a human in a jersey dunking a basketball like Michael Jordan, dramatic backlighting, vibrant sunset, vaporwave._clipdrop-cleanup.png', 'DALL·E 2022-11-14 21.27.49 - Player who dribbles a basketball like Michael Jordan, shot from front, tilted frame, 15°, high angle, extreme long shot, high detail, dramatic backlig_clipdrop-cleanup.png', 'DALL·E 2022-11-14 21.22.42 - a picture of a basketball instead of the moon, a reflection of the ball in a puddle _clipdrop-cleanup.png', 'DALL·E 2022-11-14 21.22.54 - a basketball in paris, a dark synthwave atmosphere, the moon reflecting on the ball_clipdrop-cleanup.png', 'DALL·E 2022-11-14 21.07.11 - An abstract visual of a basketball_clipdrop-cleanup.png', 'DALL·E 2022-11-14 21.24.40 - Abstract painting of a dog in a jersey dunking a basketball like Michael Jordan, shot from below, tilted frame, 35°, Dutch angle, extreme long shot, h_clipdrop-cleanup.png', 'DALL·E 2022-11-14 21.24.47 - Abstract painting of a dog in a jersey dunking a basketball like Michael Jordan, shot from below, tilted frame, 35°, Dutch angle, extreme long shot, h_clipdrop-cleanup.png', 'DALL·E 2022-11-08 01.22.54 - An abstract visual of a basketball_clipdrop-cleanup.png', 'DALL·E 2022-11-14 21.27.53 - Player who dribbles a basketball like Michael Jordan, shot from front, tilted frame, 15°, high angle, extreme long shot, high detail, dramatic backlig_clipdrop-cleanup.png', 'DALL·E 2022-11-14 21.07.15 - An abstract visual of a basketball_clipdrop-cleanup.png', 'DALL·E 2022-11-14 21.07.09 - An abstract visual of a basketball_clipdrop-cleanup.png', 'DALL·E 2022-11-14 21.14.00 - a basketball in paris, a dark synthwave atmosphere, the moon reflecting on the ball_clipdrop-cleanup.png', 'DALL·E 2022-11-14 21.22.04 - Cinematic still of a cyberpunk basketball_clipdrop-cleanup.png', 'DALL·E 2022-11-08 01.04.57 - A basketball in the NBA_clipdrop-cleanup.png', 'DALL·E 2022-11-14 21.23.31 - Expressive photo of a llama wearing a jersey dunking a basketball like Michael Jordan, low angle, extreme wide shot, indoors, dramatic backlighting, h_clipdrop-cleanup.png', 'DALL·E 2022-11-14 21.21.57 - Cinematic still of a cyberpunk basketball_clipdrop-cleanup.png', 'DALL·E 2022-11-14 21.21.53 - Cinematic still of a cyberpunk basketball_clipdrop-cleanup.png', 'DALL·E 2022-11-14 21.13.56 - a basketball in paris, a dark synthwave atmosphere, the moon reflecting on the ball_clipdrop-cleanup.png', 'DALL·E 2022-11-14 21.22.49 - a basketball in paris, a dark synthwave atmosphere, the moon reflecting on the ball_clipdrop-cleanup.png', 'DALL·E 2022-11-14 21.22.00 - Cinematic still of a cyberpunk basketball_clipdrop-cleanup.png', 'DALL·E 2022-11-14 21.14.03 - a basketball in paris, a dark synthwave atmosphere, the moon reflecting on the ball_clipdrop-cleanup.png', 'DALL·E 2022-11-14 21.25.39 - Film still of a human in a jersey dunking a basketball like Michael Jordan, dramatic backlighting, vibrant sunset, vaporwave._clipdrop-cleanup.png', 'DALL·E 2022-11-14 21.23.37 - Expressive photo of a llama wearing a jersey dunking a basketball like Michael Jordan, low angle, extreme wide shot, indoors, dramatic backlighting, h_clipdrop-cleanup.png', 'DALL·E 2022-11-08 01.20.00 - An expressive tag of a basketball player dunking_clipdrop-cleanup.png', 'DALL·E 2022-11-14 21.22.39 - a picture of a basketball instead of the moon, a reflection of the ball in a puddle _clipdrop-cleanup.png', 'DALL·E 2022-11-08 01.18.26 - An expressive oil painting of a basketball player dunking, represented by the explosion of a nebula._clipdrop-cleanup.png', 'DALL·E 2022-11-14 21.27.46 - Player who dribbles a basketball like Michael Jordan, shot from front, tilted frame, 15°, high angle, extreme long shot, high detail, dramatic backlig_clipdrop-cleanup.png']\n"
     ]
    }
   ],
   "source": [
    "import os, glob\n",
    "path_ = './basketball/'\n",
    "\n",
    "def rename_files(path: str, file_name: str):\n",
    "    \"\"\" Rename all files of a png extension in a folder\n",
    "\n",
    "    Args:\n",
    "        path (str): folder path\n",
    "        file_name (str): name used to rename files\n",
    "    \"\"\"\n",
    "    files = os.listdir(path)\n",
    "    for index, file in enumerate(files):\n",
    "        os.rename(os.path.join(path, file), os.path.join(path, ''.join([file_name + \"_\" + str(index), '.png'])))\n",
    "        \n",
    "\n",
    "# Rename all files in football folder\n",
    "rename_files(\"./football/\", \"football\")\n",
    "rename_files(\"./basketball/\", \"basketball\")"
   ]
  }
 ],
 "metadata": {
  "kernelspec": {
   "display_name": "Python 3.9.12 ('base')",
   "language": "python",
   "name": "python3"
  },
  "language_info": {
   "codemirror_mode": {
    "name": "ipython",
    "version": 3
   },
   "file_extension": ".py",
   "mimetype": "text/x-python",
   "name": "python",
   "nbconvert_exporter": "python",
   "pygments_lexer": "ipython3",
   "version": "3.9.12"
  },
  "orig_nbformat": 4,
  "vscode": {
   "interpreter": {
    "hash": "baa15ed6ad832c1f2b1c15686f187e444cedd0bfb138b747a4d97d43355a914b"
   }
  }
 },
 "nbformat": 4,
 "nbformat_minor": 2
}
