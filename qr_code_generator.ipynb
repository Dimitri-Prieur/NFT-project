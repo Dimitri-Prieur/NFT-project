{
 "cells": [
  {
   "cell_type": "code",
   "execution_count": 2,
   "metadata": {},
   "outputs": [
    {
     "name": "stdout",
     "output_type": "stream",
     "text": [
      "Requirement already satisfied: pillow in /Users/barthelemypopille/opt/anaconda3/lib/python3.9/site-packages (9.0.1)\n",
      "^C\n",
      "\u001b[31mERROR: Operation cancelled by user\u001b[0m\u001b[31m\n",
      "\u001b[0m"
     ]
    }
   ],
   "source": [
    "# !pip install pillow\n",
    "# !pip install qrcode"
   ]
  },
  {
   "cell_type": "markdown",
   "metadata": {},
   "source": [
    "**version:** <br>\n",
    "This parameter defines the size of the QR Code generated.<br>\n",
    "It accepts integer values in the range of 1 to 40.<br>\n",
    "The higher this value, bigger the dimension of the generated QR Code image.\n",
    "\n",
    "**box_size:** <br>\n",
    "This parameter defines the size of each box in pixels.\n",
    "\n",
    "**border:** <br>\n",
    "The border defines the thickness of the border. <br>\n",
    "In this example, the value of 5 means that the border is equal to the thickness of 5 tiny black boxes.\n",
    "\n",
    "**add_data:** <br>\n",
    "This method is used to pass our input text, which is the hyperlink to the article in our case. <br>\n",
    "The make function with (fit=True) ensures that the entire dimension of the QR Code is utilized, even if our input data could fit into less number of boxes."
   ]
  },
  {
   "cell_type": "code",
   "execution_count": 4,
   "metadata": {},
   "outputs": [],
   "source": [
    "import qrcode\n",
    "\n",
    "# Link for website\n",
    "input_data = \"https://jardinage.lemonde.fr/images/dossiers/2017-09/castor-113620.jpg\"\n",
    "\n",
    "#Creating an instance of qrcode\n",
    "qr = qrcode.QRCode(\n",
    "        version = 1,\n",
    "        box_size = 10,\n",
    "        border = 5,\n",
    "    )\n",
    "\n",
    "qr.add_data(input_data)\n",
    "qr.make(fit=True)\n",
    "\n",
    "img = qr.make_image(fill='black', back_color='white')\n",
    "img.save('generated_qr_code.png')"
   ]
  }
 ],
 "metadata": {
  "kernelspec": {
   "display_name": "Python 3.9.12 ('base')",
   "language": "python",
   "name": "python3"
  },
  "language_info": {
   "codemirror_mode": {
    "name": "ipython",
    "version": 3
   },
   "file_extension": ".py",
   "mimetype": "text/x-python",
   "name": "python",
   "nbconvert_exporter": "python",
   "pygments_lexer": "ipython3",
   "version": "3.9.12"
  },
  "orig_nbformat": 4,
  "vscode": {
   "interpreter": {
    "hash": "baa15ed6ad832c1f2b1c15686f187e444cedd0bfb138b747a4d97d43355a914b"
   }
  }
 },
 "nbformat": 4,
 "nbformat_minor": 2
}
